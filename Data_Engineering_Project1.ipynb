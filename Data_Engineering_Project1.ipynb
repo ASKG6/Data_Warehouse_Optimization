{
 "cells": [
  {
   "cell_type": "code",
   "execution_count": 3,
   "id": "688fc191",
   "metadata": {},
   "outputs": [
    {
     "name": "stdout",
     "output_type": "stream",
     "text": [
      "Collecting psycopg2\n",
      "  Downloading psycopg2-2.9.9-cp311-cp311-win_amd64.whl.metadata (4.5 kB)\n",
      "Downloading psycopg2-2.9.9-cp311-cp311-win_amd64.whl (1.2 MB)\n",
      "   ---------------------------------------- 0.0/1.2 MB ? eta -:--:--\n",
      "   ---------------------------------------- 1.2/1.2 MB 19.2 MB/s eta 0:00:00\n",
      "Installing collected packages: psycopg2\n",
      "Successfully installed psycopg2-2.9.9\n"
     ]
    }
   ],
   "source": [
    "!pip install psycopg2"
   ]
  },
  {
   "cell_type": "code",
   "execution_count": 26,
   "id": "43ceea98",
   "metadata": {},
   "outputs": [],
   "source": [
    "import psycopg2\n",
    "import pandas as pd\n",
    "import numpy as np\n",
    "# try:\n",
    "#     conn = psycopg2.connect(host=\"localhost\", database=\"postgres\", user=\"postgres\", password=\"Komal@06\")\n",
    "# except psycopg2.Error as e:\n",
    "#     print(\"Error: could not make a connection to the postgres database\")\n",
    "#     print(e)"
   ]
  },
  {
   "cell_type": "code",
   "execution_count": 22,
   "id": "970323c0",
   "metadata": {},
   "outputs": [],
   "source": [
    "try:\n",
    "    conn = psycopg2.connect(host=\"localhost\", database=\"my_first_db\", user=\"postgres\", password=\"Komal@06\")\n",
    "except psycopg2.Error as e:\n",
    "    print(\"Error: could not make a connection to the postgres database\")\n",
    "    print(e)\n",
    "    \n",
    "cur = conn.cursor()\n",
    "conn.set_session(autocommit=True)"
   ]
  },
  {
   "cell_type": "code",
   "execution_count": 4,
   "id": "e5ecb633",
   "metadata": {},
   "outputs": [],
   "source": [
    "cur.execute(\"CREATE TABLE IF NOT EXISTS students \\\n",
    "            (student_id int,\\\n",
    "            name varchar, \\\n",
    "            age int, \\\n",
    "            gender varchar, \\\n",
    "            subject varchar, \\\n",
    "            marks int);\")"
   ]
  },
  {
   "cell_type": "code",
   "execution_count": 15,
   "id": "b45e2db8",
   "metadata": {},
   "outputs": [],
   "source": [
    "# cur.execute(\"INSERT INTO students (student_id, name, age, gender, subject, marks) \\\n",
    "#              VALUES (%s, %s, %s, %s, %s, %s)\", \\\n",
    "#              (1, \"Raj\", 23, \"Male\", \"Python\", 85))\n",
    "\n",
    "cur.execute(\"INSERT INTO students (student_id, name, age, gender, subject, marks) \\\n",
    "             VALUES (%s, %s, %s, %s, %s, %s)\", \\\n",
    "             (2, \"Priya\", 22, \"Female\", \"Python\", 86))"
   ]
  },
  {
   "cell_type": "code",
   "execution_count": 10,
   "id": "6ec67f85",
   "metadata": {},
   "outputs": [],
   "source": [
    "cur.execute(\"DELETE FROM students WHERE student_id = 2\")"
   ]
  },
  {
   "cell_type": "code",
   "execution_count": 23,
   "id": "8d4a8ef3",
   "metadata": {},
   "outputs": [
    {
     "name": "stdout",
     "output_type": "stream",
     "text": [
      "(1, 'Raj', 23, 'Male', 'Python', 85)\n",
      "(2, 'Priya', 22, 'Female', 'Python', 86)\n"
     ]
    }
   ],
   "source": [
    "cur.execute(\"SELECT * FROM students;\")\n",
    "rows = cur.fetchall()\n",
    "\n",
    "for row in rows:\n",
    "    print(row)"
   ]
  },
  {
   "cell_type": "code",
   "execution_count": 24,
   "id": "8b3788f2",
   "metadata": {},
   "outputs": [],
   "source": [
    "cur.close()\n",
    "conn.close()"
   ]
  },
  {
   "cell_type": "code",
   "execution_count": 136,
   "id": "014cb175",
   "metadata": {},
   "outputs": [],
   "source": [
    "def connection_db():    \n",
    "    try:\n",
    "        conn = psycopg2.connect(host=\"localhost\", database=\"accounts\", user=\"postgres\", password=\"Komal@06\")\n",
    "        print(\"Connection established successfully\")\n",
    "    except psycopg2.Error as e:\n",
    "        print(\"Error: could not make a connection to the postgres database\")\n",
    "        print(e)\n",
    "    \n",
    "    cur = conn.cursor()\n",
    "    conn.set_session(autocommit=True)\n",
    "    \n",
    "    return conn, cur  "
   ]
  },
  {
   "cell_type": "code",
   "execution_count": 27,
   "id": "031fe50c",
   "metadata": {},
   "outputs": [],
   "source": [
    "accounts_data = pd.read_csv('Wealth-AccountData.csv')\n",
    "accounts_country = pd.read_csv('Wealth-AccountsCountry.csv')\n",
    "accounts_series = pd.read_csv('Wealth-AccountSeries.csv')"
   ]
  },
  {
   "cell_type": "code",
   "execution_count": 32,
   "id": "6dafbd78",
   "metadata": {},
   "outputs": [],
   "source": [
    "accounts_country = accounts_country[['Code', 'Long Name', 'Short Name', 'Table Name', 'Currency Unit']]"
   ]
  },
  {
   "cell_type": "code",
   "execution_count": 33,
   "id": "3f63df4a",
   "metadata": {},
   "outputs": [
    {
     "data": {
      "text/html": [
       "<div>\n",
       "<style scoped>\n",
       "    .dataframe tbody tr th:only-of-type {\n",
       "        vertical-align: middle;\n",
       "    }\n",
       "\n",
       "    .dataframe tbody tr th {\n",
       "        vertical-align: top;\n",
       "    }\n",
       "\n",
       "    .dataframe thead th {\n",
       "        text-align: right;\n",
       "    }\n",
       "</style>\n",
       "<table border=\"1\" class=\"dataframe\">\n",
       "  <thead>\n",
       "    <tr style=\"text-align: right;\">\n",
       "      <th></th>\n",
       "      <th>Code</th>\n",
       "      <th>Long Name</th>\n",
       "      <th>Short Name</th>\n",
       "      <th>Table Name</th>\n",
       "      <th>Currency Unit</th>\n",
       "    </tr>\n",
       "  </thead>\n",
       "  <tbody>\n",
       "    <tr>\n",
       "      <th>0</th>\n",
       "      <td>ALB</td>\n",
       "      <td>Republic of Albania</td>\n",
       "      <td>Albania</td>\n",
       "      <td>Albania</td>\n",
       "      <td>Albanian lek</td>\n",
       "    </tr>\n",
       "    <tr>\n",
       "      <th>1</th>\n",
       "      <td>ARG</td>\n",
       "      <td>Argentine Republic</td>\n",
       "      <td>Argentina</td>\n",
       "      <td>Argentina</td>\n",
       "      <td>Argentine peso</td>\n",
       "    </tr>\n",
       "    <tr>\n",
       "      <th>2</th>\n",
       "      <td>ARM</td>\n",
       "      <td>Republic of Armenia</td>\n",
       "      <td>Armenia</td>\n",
       "      <td>Armenia</td>\n",
       "      <td>Armenian dram</td>\n",
       "    </tr>\n",
       "    <tr>\n",
       "      <th>3</th>\n",
       "      <td>AUS</td>\n",
       "      <td>Commonwealth of Australia</td>\n",
       "      <td>Australia</td>\n",
       "      <td>Australia</td>\n",
       "      <td>Australian dollar</td>\n",
       "    </tr>\n",
       "    <tr>\n",
       "      <th>4</th>\n",
       "      <td>AUT</td>\n",
       "      <td>Republic of Austria</td>\n",
       "      <td>Austria</td>\n",
       "      <td>Austria</td>\n",
       "      <td>Euro</td>\n",
       "    </tr>\n",
       "  </tbody>\n",
       "</table>\n",
       "</div>"
      ],
      "text/plain": [
       "  Code                  Long Name Short Name Table Name      Currency Unit\n",
       "0  ALB        Republic of Albania    Albania    Albania       Albanian lek\n",
       "1  ARG         Argentine Republic  Argentina  Argentina     Argentine peso\n",
       "2  ARM        Republic of Armenia    Armenia    Armenia      Armenian dram\n",
       "3  AUS  Commonwealth of Australia  Australia  Australia  Australian dollar\n",
       "4  AUT        Republic of Austria    Austria    Austria               Euro"
      ]
     },
     "execution_count": 33,
     "metadata": {},
     "output_type": "execute_result"
    }
   ],
   "source": [
    "accounts_country.head()"
   ]
  },
  {
   "cell_type": "code",
   "execution_count": 41,
   "id": "23dd474a",
   "metadata": {},
   "outputs": [],
   "source": [
    "accounts_data.rename(columns={\n",
    "    '1995 [YR1995]': 1995,\n",
    "    '2000 [YR2000]': 2000,\n",
    "    '2005 [YR2005]': 2005,\n",
    "    '2010 [YR2010]': 2010,\n",
    "    '2015 [YR2015]': 2015,\n",
    "    '2018 [YR2018]': 2018\n",
    "}, inplace=True)"
   ]
  },
  {
   "cell_type": "code",
   "execution_count": 43,
   "id": "c9730a25",
   "metadata": {},
   "outputs": [],
   "source": [
    "accounts_data = accounts_data[['Country Name', 'Country Code', \n",
    "                              'Series Code', 1995, 2000, 2005,\n",
    "                              2010, 2015, 2018]]"
   ]
  },
  {
   "cell_type": "code",
   "execution_count": 44,
   "id": "94357941",
   "metadata": {},
   "outputs": [
    {
     "data": {
      "text/html": [
       "<div>\n",
       "<style scoped>\n",
       "    .dataframe tbody tr th:only-of-type {\n",
       "        vertical-align: middle;\n",
       "    }\n",
       "\n",
       "    .dataframe tbody tr th {\n",
       "        vertical-align: top;\n",
       "    }\n",
       "\n",
       "    .dataframe thead th {\n",
       "        text-align: right;\n",
       "    }\n",
       "</style>\n",
       "<table border=\"1\" class=\"dataframe\">\n",
       "  <thead>\n",
       "    <tr style=\"text-align: right;\">\n",
       "      <th></th>\n",
       "      <th>Country Name</th>\n",
       "      <th>Country Code</th>\n",
       "      <th>Series Code</th>\n",
       "      <th>1995</th>\n",
       "      <th>2000</th>\n",
       "      <th>2005</th>\n",
       "      <th>2010</th>\n",
       "      <th>2015</th>\n",
       "      <th>2018</th>\n",
       "    </tr>\n",
       "  </thead>\n",
       "  <tbody>\n",
       "    <tr>\n",
       "      <th>0</th>\n",
       "      <td>Albania</td>\n",
       "      <td>ALB</td>\n",
       "      <td>NW.HCA.TO</td>\n",
       "      <td>4.49E+10</td>\n",
       "      <td>4.36E+10</td>\n",
       "      <td>5.440000e+10</td>\n",
       "      <td>6.810000e+10</td>\n",
       "      <td>7.370000e+10</td>\n",
       "      <td>8.12E+10</td>\n",
       "    </tr>\n",
       "    <tr>\n",
       "      <th>1</th>\n",
       "      <td>Albania</td>\n",
       "      <td>ALB</td>\n",
       "      <td>NW.HCA.PC</td>\n",
       "      <td>14072.79</td>\n",
       "      <td>14118.13</td>\n",
       "      <td>1.807230e+04</td>\n",
       "      <td>2.336286e+04</td>\n",
       "      <td>2.559371e+04</td>\n",
       "      <td>28333.68</td>\n",
       "    </tr>\n",
       "    <tr>\n",
       "      <th>2</th>\n",
       "      <td>Albania</td>\n",
       "      <td>ALB</td>\n",
       "      <td>NW.HCA.FEMP.PC</td>\n",
       "      <td>3468.858</td>\n",
       "      <td>3424.007</td>\n",
       "      <td>2.222115e+03</td>\n",
       "      <td>2.889150e+03</td>\n",
       "      <td>2.987545e+03</td>\n",
       "      <td>3312.927</td>\n",
       "    </tr>\n",
       "    <tr>\n",
       "      <th>3</th>\n",
       "      <td>Albania</td>\n",
       "      <td>ALB</td>\n",
       "      <td>NW.HCA.MEMP.PC</td>\n",
       "      <td>6507.931</td>\n",
       "      <td>6872.019</td>\n",
       "      <td>1.168935e+04</td>\n",
       "      <td>1.578992e+04</td>\n",
       "      <td>1.730701e+04</td>\n",
       "      <td>19245.19</td>\n",
       "    </tr>\n",
       "    <tr>\n",
       "      <th>4</th>\n",
       "      <td>Albania</td>\n",
       "      <td>ALB</td>\n",
       "      <td>NW.HCA.FEMA.PC</td>\n",
       "      <td>4893.006</td>\n",
       "      <td>4695.071</td>\n",
       "      <td>2.886736e+03</td>\n",
       "      <td>3.613606e+03</td>\n",
       "      <td>3.767628e+03</td>\n",
       "      <td>4161.137</td>\n",
       "    </tr>\n",
       "  </tbody>\n",
       "</table>\n",
       "</div>"
      ],
      "text/plain": [
       "  Country Name Country Code     Series Code      1995      2000          2005  \\\n",
       "0      Albania          ALB       NW.HCA.TO  4.49E+10  4.36E+10  5.440000e+10   \n",
       "1      Albania          ALB       NW.HCA.PC  14072.79  14118.13  1.807230e+04   \n",
       "2      Albania          ALB  NW.HCA.FEMP.PC  3468.858  3424.007  2.222115e+03   \n",
       "3      Albania          ALB  NW.HCA.MEMP.PC  6507.931  6872.019  1.168935e+04   \n",
       "4      Albania          ALB  NW.HCA.FEMA.PC  4893.006  4695.071  2.886736e+03   \n",
       "\n",
       "           2010          2015      2018  \n",
       "0  6.810000e+10  7.370000e+10  8.12E+10  \n",
       "1  2.336286e+04  2.559371e+04  28333.68  \n",
       "2  2.889150e+03  2.987545e+03  3312.927  \n",
       "3  1.578992e+04  1.730701e+04  19245.19  \n",
       "4  3.613606e+03  3.767628e+03  4161.137  "
      ]
     },
     "execution_count": 44,
     "metadata": {},
     "output_type": "execute_result"
    }
   ],
   "source": [
    "accounts_data.head()"
   ]
  },
  {
   "cell_type": "code",
   "execution_count": 48,
   "id": "077cd89d",
   "metadata": {},
   "outputs": [
    {
     "data": {
      "text/plain": [
       "Index(['Code', 'Indicator Name', 'Long definition', 'Source', 'Topic',\n",
       "       'Unit of measure', 'Periodicity', 'Reference period',\n",
       "       'Statistical concept and methodology', 'Previous Indicator Code',\n",
       "       'Previous Indicator Name'],\n",
       "      dtype='object')"
      ]
     },
     "execution_count": 48,
     "metadata": {},
     "output_type": "execute_result"
    }
   ],
   "source": [
    "accounts_series.columns"
   ]
  },
  {
   "cell_type": "code",
   "execution_count": 50,
   "id": "b27a141a",
   "metadata": {},
   "outputs": [],
   "source": [
    "accounts_series = accounts_series[['Code', 'Indicator Name',\n",
    "                                  'Topic', 'Long definition']]"
   ]
  },
  {
   "cell_type": "code",
   "execution_count": 51,
   "id": "da63dade",
   "metadata": {},
   "outputs": [
    {
     "data": {
      "text/html": [
       "<div>\n",
       "<style scoped>\n",
       "    .dataframe tbody tr th:only-of-type {\n",
       "        vertical-align: middle;\n",
       "    }\n",
       "\n",
       "    .dataframe tbody tr th {\n",
       "        vertical-align: top;\n",
       "    }\n",
       "\n",
       "    .dataframe thead th {\n",
       "        text-align: right;\n",
       "    }\n",
       "</style>\n",
       "<table border=\"1\" class=\"dataframe\">\n",
       "  <thead>\n",
       "    <tr style=\"text-align: right;\">\n",
       "      <th></th>\n",
       "      <th>Code</th>\n",
       "      <th>Indicator Name</th>\n",
       "      <th>Topic</th>\n",
       "      <th>Long definition</th>\n",
       "    </tr>\n",
       "  </thead>\n",
       "  <tbody>\n",
       "    <tr>\n",
       "      <th>0</th>\n",
       "      <td>NW.HCA.TO</td>\n",
       "      <td>Human capital (constant 2018 US$)</td>\n",
       "      <td>Human capital</td>\n",
       "      <td>Human capital is computed as the present value...</td>\n",
       "    </tr>\n",
       "    <tr>\n",
       "      <th>1</th>\n",
       "      <td>NW.HCA.PC</td>\n",
       "      <td>Human capital per capita (constant 2018 US$)</td>\n",
       "      <td>Human capital</td>\n",
       "      <td>Human capital is computed as the present value...</td>\n",
       "    </tr>\n",
       "    <tr>\n",
       "      <th>2</th>\n",
       "      <td>NW.HCA.FEMP.PC</td>\n",
       "      <td>Human capital per capita, employed female (con...</td>\n",
       "      <td>Human capital</td>\n",
       "      <td>Human capital is computed as the present value...</td>\n",
       "    </tr>\n",
       "    <tr>\n",
       "      <th>3</th>\n",
       "      <td>NW.HCA.MEMP.PC</td>\n",
       "      <td>Human capital per capita, employed male (const...</td>\n",
       "      <td>Human capital</td>\n",
       "      <td>Human capital is computed as the present value...</td>\n",
       "    </tr>\n",
       "    <tr>\n",
       "      <th>4</th>\n",
       "      <td>NW.HCA.FEMA.PC</td>\n",
       "      <td>Human capital per capita, female (constant 201...</td>\n",
       "      <td>Human capital</td>\n",
       "      <td>Human capital is computed as the present value...</td>\n",
       "    </tr>\n",
       "  </tbody>\n",
       "</table>\n",
       "</div>"
      ],
      "text/plain": [
       "             Code                                     Indicator Name  \\\n",
       "0       NW.HCA.TO                  Human capital (constant 2018 US$)   \n",
       "1       NW.HCA.PC       Human capital per capita (constant 2018 US$)   \n",
       "2  NW.HCA.FEMP.PC  Human capital per capita, employed female (con...   \n",
       "3  NW.HCA.MEMP.PC  Human capital per capita, employed male (const...   \n",
       "4  NW.HCA.FEMA.PC  Human capital per capita, female (constant 201...   \n",
       "\n",
       "           Topic                                    Long definition  \n",
       "0  Human capital  Human capital is computed as the present value...  \n",
       "1  Human capital  Human capital is computed as the present value...  \n",
       "2  Human capital  Human capital is computed as the present value...  \n",
       "3  Human capital  Human capital is computed as the present value...  \n",
       "4  Human capital  Human capital is computed as the present value...  "
      ]
     },
     "execution_count": 51,
     "metadata": {},
     "output_type": "execute_result"
    }
   ],
   "source": [
    "accounts_series.head()"
   ]
  },
  {
   "cell_type": "code",
   "execution_count": 137,
   "id": "4fe3ef97",
   "metadata": {},
   "outputs": [
    {
     "name": "stdout",
     "output_type": "stream",
     "text": [
      "Connection established successfully\n"
     ]
    }
   ],
   "source": [
    "conn, cur = connection_db()"
   ]
  },
  {
   "cell_type": "code",
   "execution_count": 94,
   "id": "62bfc048",
   "metadata": {},
   "outputs": [],
   "source": [
    "create_table_accountscountry = (\"\"\" CREATE TABLE IF NOT EXISTS accounts_country( \n",
    "country_code VARCHAR PRIMARY KEY,\n",
    "Long_Name VARCHAR,\n",
    "Short_Name VARCHAR,\n",
    "Table_Name VARCHAR,\n",
    "Currency_Unit VARCHAR)\"\"\")\n",
    "\n",
    "cur.execute(create_table_accountscountry)\n",
    "conn.commit()\n"
   ]
  },
  {
   "cell_type": "code",
   "execution_count": 95,
   "id": "ffd83dac",
   "metadata": {},
   "outputs": [],
   "source": [
    "create_table_accountsseries = (\"\"\" CREATE TABLE IF NOT EXISTS accounts_series(\n",
    "code VARCHAR,\n",
    "Indicator_Name VARCHAR,\n",
    "Topic VARCHAR,\n",
    "Long_Definition VARCHAR)\"\"\")\n",
    "\n",
    "cur.execute(create_table_accountsseries)\n",
    "conn.commit()"
   ]
  },
  {
   "cell_type": "code",
   "execution_count": 96,
   "id": "1d6112ec",
   "metadata": {},
   "outputs": [],
   "source": [
    "create_table_accountsdata = (\"\"\" CREATE TABLE IF NOT EXISTS accounts_data(\n",
    "Country_Name VARCHAR,\n",
    "Country_Code VARCHAR,\n",
    "Series_Code VARCHAR,\n",
    "\"1995\" int,\n",
    "\"2000\" int,\n",
    "\"2005\" int,\n",
    "\"2010\" int,\n",
    "\"2015\" int,\n",
    "\"2018\" int)\"\"\")\n",
    "\n",
    "cur.execute(create_table_accountsdata)\n",
    "conn.commit()"
   ]
  },
  {
   "cell_type": "code",
   "execution_count": 78,
   "id": "5f3cd374",
   "metadata": {},
   "outputs": [
    {
     "data": {
      "text/plain": [
       "array([['ALB', 'Republic of Albania', 'Albania', 'Albania',\n",
       "        'Albanian lek'],\n",
       "       ['ARG', 'Argentine Republic', 'Argentina', 'Argentina',\n",
       "        'Argentine peso'],\n",
       "       ['ARM', 'Republic of Armenia', 'Armenia', 'Armenia',\n",
       "        'Armenian dram'],\n",
       "       ['AUS', 'Commonwealth of Australia', 'Australia', 'Australia',\n",
       "        'Australian dollar'],\n",
       "       ['AUT', 'Republic of Austria', 'Austria', 'Austria', 'Euro']],\n",
       "      dtype=object)"
      ]
     },
     "execution_count": 78,
     "metadata": {},
     "output_type": "execute_result"
    }
   ],
   "source": [
    "accounts_country.head().to_numpy()"
   ]
  },
  {
   "cell_type": "code",
   "execution_count": 81,
   "id": "7c30927b",
   "metadata": {},
   "outputs": [
    {
     "name": "stdout",
     "output_type": "stream",
     "text": [
      "['ALB' 'Republic of Albania' 'Albania' 'Albania' 'Albanian lek']\n",
      "['ARG' 'Argentine Republic' 'Argentina' 'Argentina' 'Argentine peso']\n",
      "['ARM' 'Republic of Armenia' 'Armenia' 'Armenia' 'Armenian dram']\n",
      "['AUS' 'Commonwealth of Australia' 'Australia' 'Australia'\n",
      " 'Australian dollar']\n",
      "['AUT' 'Republic of Austria' 'Austria' 'Austria' 'Euro']\n"
     ]
    }
   ],
   "source": [
    "for x in accounts_country.head().to_numpy():\n",
    "    print(x)"
   ]
  },
  {
   "cell_type": "code",
   "execution_count": null,
   "id": "c7598671",
   "metadata": {},
   "outputs": [],
   "source": [
    "# Convert DataFrame rows to a list of tuples\n",
    "country_data = [tuple(x) for x in accounts_country.to_numpy()]\n",
    "\n",
    "# Correct SQL insert statement with proper column names\n",
    "accounts_country_table_insert = (\"\"\"\n",
    "INSERT INTO accounts_country (\n",
    "\"country_code\",\n",
    "\"long_name\",\n",
    "\"short_name\",\n",
    "\"table_name\",\n",
    "\"currency_unit\"\n",
    ")\n",
    "VALUES (%s, %s, %s, %s, %s)\n",
    "\"\"\")\n",
    "\n",
    "# Iterate through data and execute the insert command\n",
    "for i in country_data:\n",
    "    cur.execute(accounts_country_table_insert, i)\n",
    "\n",
    "\n",
    "# Commit the transaction to save changes\n",
    "conn.commit()\n"
   ]
  },
  {
   "cell_type": "code",
   "execution_count": 144,
   "id": "55629107",
   "metadata": {},
   "outputs": [],
   "source": [
    "# Convert DataFrame rows to a list of tuples\n",
    "series_data = [tuple(x) for x in accounts_series.to_numpy()]\n",
    "\n",
    "# Correct SQL insert statement with proper column names\n",
    "accounts_series_table_insert = (\"\"\"\n",
    "INSERT INTO accounts_series (\n",
    "\"code\",\n",
    "\"indicator_name\",\n",
    "\"topic\",\n",
    "\"long_definition\"\n",
    ")\n",
    "VALUES (%s, %s, %s, %s)\n",
    "\"\"\")\n",
    "\n",
    "# Iterate through data and execute the insert command\n",
    "for i in series_data:\n",
    "    cur.execute(accounts_series_table_insert, i)  # Fixed the variable name\n",
    "\n",
    "# Commit the transaction to save changes\n",
    "conn.commit()"
   ]
  },
  {
   "cell_type": "code",
   "execution_count": 154,
   "id": "5326e6b2",
   "metadata": {},
   "outputs": [],
   "source": [
    "cols_to_convert = [1995, 2000, 2005, 2010, 2015, 2018]\n",
    "\n",
    "# Replace invalid entries with NaN and then convert to float\n",
    "for col in cols_to_convert:\n",
    "    accounts_data[col] = pd.to_numeric(accounts_data[col], errors='coerce').fillna(0)\n"
   ]
  },
  {
   "cell_type": "code",
   "execution_count": 155,
   "id": "08ba314d",
   "metadata": {},
   "outputs": [],
   "source": [
    "accounts_data = accounts_data.astype({1995:'int', 2000:'int', 2005:\"int\", 2010:\"int\", 2015:\"int\", 2018:\"int\"})"
   ]
  },
  {
   "cell_type": "code",
   "execution_count": 157,
   "id": "7091ad34",
   "metadata": {},
   "outputs": [],
   "source": [
    "# Convert DataFrame rows to a list of tuples\n",
    "series_data = [tuple(x) for x in accounts_data.to_numpy()]\n",
    "\n",
    "# Correct SQL insert statement with proper column names\n",
    "accounts_data_table_insert = (\"\"\"\n",
    "INSERT INTO accounts_data (\n",
    "\"country_name\",\n",
    "\"country_code\",\n",
    "\"series_code\",\n",
    "\"1995\",\n",
    "\"2000\",\n",
    "\"2005\",\n",
    "\"2010\",\n",
    "\"2015\",\n",
    "\"2018\"\n",
    ")\n",
    "VALUES (%s, %s, %s, %s, %s, %s, %s, %s, %s)\n",
    "\"\"\")\n",
    "\n",
    "# Iterate through data and execute the insert command\n",
    "for i in series_data:\n",
    "    cur.execute(accounts_data_table_insert, i)  # Fixed the variable name\n",
    "\n",
    "# Commit the transaction to save changes\n",
    "conn.commit()"
   ]
  },
  {
   "cell_type": "code",
   "execution_count": 158,
   "id": "f1af749d",
   "metadata": {},
   "outputs": [],
   "source": [
    "conn.close()\n",
    "cur.close()"
   ]
  }
 ],
 "metadata": {
  "kernelspec": {
   "display_name": "Python 3 (ipykernel)",
   "language": "python",
   "name": "python3"
  },
  "language_info": {
   "codemirror_mode": {
    "name": "ipython",
    "version": 3
   },
   "file_extension": ".py",
   "mimetype": "text/x-python",
   "name": "python",
   "nbconvert_exporter": "python",
   "pygments_lexer": "ipython3",
   "version": "3.11.1"
  }
 },
 "nbformat": 4,
 "nbformat_minor": 5
}
